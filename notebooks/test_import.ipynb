{
 "cells": [
  {
   "cell_type": "code",
   "execution_count": 2,
   "metadata": {},
   "outputs": [],
   "source": [
    "#auto reload\n",
    "%load_ext autoreload\n",
    "%autoreload 2"
   ]
  },
  {
   "cell_type": "code",
   "execution_count": 4,
   "metadata": {},
   "outputs": [],
   "source": [
    "import warcraftlogs\n",
    "from warcraftlogs.constants import TOKEN_DIR"
   ]
  },
  {
   "cell_type": "code",
   "execution_count": 5,
   "metadata": {},
   "outputs": [],
   "source": [
    "from warcraftlogs import WarcraftLogsClient\n",
    "\n",
    "client = WarcraftLogsClient(token_dir=TOKEN_DIR)"
   ]
  },
  {
   "cell_type": "code",
   "execution_count": 6,
   "metadata": {},
   "outputs": [],
   "source": [
    "query = \"\"\"\n",
    "query GetGameZones {\n",
    "    gameData {\n",
    "    expansions {\n",
    "        name\n",
    "        zones {\n",
    "        id\n",
    "        name\n",
    "        }\n",
    "    }\n",
    "    }\n",
    "}\n",
    "\"\"\"\n",
    "\n",
    "result = client.query_public_api(query)"
   ]
  },
  {
   "cell_type": "code",
   "execution_count": 7,
   "metadata": {},
   "outputs": [
    {
     "data": {
      "text/plain": [
       "{'errors': [{'message': 'Cannot query field \"expansions\" on type \"GameData\". Did you mean \"factions\"?',\n",
       "   'extensions': {'category': 'graphql'},\n",
       "   'locations': [{'line': 4, 'column': 5}]}]}"
      ]
     },
     "execution_count": 7,
     "metadata": {},
     "output_type": "execute_result"
    }
   ],
   "source": [
    "result"
   ]
  },
  {
   "cell_type": "code",
   "execution_count": 16,
   "metadata": {},
   "outputs": [
    {
     "data": {
      "text/plain": [
       "{'errors': [{'message': 'Syntax Error: Unexpected }',\n",
       "   'extensions': {'category': 'graphql'},\n",
       "   'locations': [{'line': 8, 'column': 1}]}]}"
      ]
     },
     "execution_count": 16,
     "metadata": {},
     "output_type": "execute_result"
    }
   ],
   "source": [
    "query = \"\"\"\n",
    "query GetAllGameZones {\n",
    "  GameZone {\n",
    "      id\n",
    "      name\n",
    "    }\n",
    "  }\n",
    "}\n",
    "\"\"\"\n",
    "result = client.query_public_api(query)\n",
    "result\n"
   ]
  },
  {
   "cell_type": "code",
   "execution_count": 17,
   "metadata": {},
   "outputs": [],
   "source": [
    "def get_data(query: str, **kwargs) -> dict:\n",
    "    \"\"\"\n",
    "    Helper function to get data from the WarcraftLogs API.\n",
    "    \"\"\"\n",
    "    data = client.query_public_api(query, **kwargs)\n",
    "    return data"
   ]
  },
  {
   "cell_type": "code",
   "execution_count": 32,
   "metadata": {},
   "outputs": [],
   "source": [
    "query=\"\"\"query($code:String){\n",
    "reportData{\n",
    "  report(code:$code){\n",
    "    fights {\n",
    "      id\n",
    "      difficulty\n",
    "      name\n",
    "      kill\n",
    "      startTime\n",
    "      endTime\n",
    "    }\n",
    "    playerDetails(fightIDs:1)\n",
    "}\n",
    "}}\n",
    "\"\"\"\n",
    "resp = client.query_public_api(query, {\"code\":\"ZXxKHCtpn9hz2aAb\"})"
   ]
  },
  {
   "cell_type": "code",
   "execution_count": 40,
   "metadata": {},
   "outputs": [
    {
     "data": {
      "text/plain": [
       "{'data': {'playerDetails': {'dps': [{'name': 'Loveinpeacee',\n",
       "     'id': 12,\n",
       "     'guid': 220486787,\n",
       "     'type': 'Paladin',\n",
       "     'server': 'Kazzak',\n",
       "     'region': 'EU',\n",
       "     'icon': 'Paladin-Retribution',\n",
       "     'specs': [{'spec': 'Retribution', 'count': 1}],\n",
       "     'minItemLevel': 662,\n",
       "     'maxItemLevel': 662,\n",
       "     'potionUse': 0,\n",
       "     'healthstoneUse': 0,\n",
       "     'combatantInfo': []},\n",
       "    {'name': 'Dêbz',\n",
       "     'id': 15,\n",
       "     'guid': 219174663,\n",
       "     'type': 'Hunter',\n",
       "     'server': 'Archimonde',\n",
       "     'region': 'EU',\n",
       "     'icon': 'Hunter-BeastMastery',\n",
       "     'specs': [{'spec': 'BeastMastery', 'count': 1}],\n",
       "     'minItemLevel': 665,\n",
       "     'maxItemLevel': 665,\n",
       "     'potionUse': 0,\n",
       "     'healthstoneUse': 0,\n",
       "     'combatantInfo': []},\n",
       "    {'name': 'Cripzosaure',\n",
       "     'id': 7,\n",
       "     'guid': 219239702,\n",
       "     'type': 'Warlock',\n",
       "     'server': 'Archimonde',\n",
       "     'region': 'EU',\n",
       "     'icon': 'Warlock-Affliction',\n",
       "     'specs': [{'spec': 'Affliction', 'count': 1}],\n",
       "     'minItemLevel': 663,\n",
       "     'maxItemLevel': 663,\n",
       "     'potionUse': 0,\n",
       "     'healthstoneUse': 0,\n",
       "     'combatantInfo': []}],\n",
       "   'healers': [{'name': 'Frÿsket',\n",
       "     'id': 17,\n",
       "     'guid': 219727852,\n",
       "     'type': 'Shaman',\n",
       "     'server': 'Hyjal',\n",
       "     'region': 'EU',\n",
       "     'icon': 'Shaman-Restoration',\n",
       "     'specs': [{'spec': 'Restoration', 'count': 1}],\n",
       "     'minItemLevel': 664,\n",
       "     'maxItemLevel': 664,\n",
       "     'potionUse': 0,\n",
       "     'healthstoneUse': 0,\n",
       "     'combatantInfo': []}],\n",
       "   'tanks': [{'name': 'Krapî',\n",
       "     'id': 8,\n",
       "     'guid': 214936496,\n",
       "     'type': 'Druid',\n",
       "     'server': 'Archimonde',\n",
       "     'region': 'EU',\n",
       "     'icon': 'Druid-Guardian',\n",
       "     'specs': [{'spec': 'Guardian', 'count': 1}],\n",
       "     'minItemLevel': 665,\n",
       "     'maxItemLevel': 665,\n",
       "     'potionUse': 0,\n",
       "     'healthstoneUse': 0,\n",
       "     'combatantInfo': []}]}}}"
      ]
     },
     "execution_count": 40,
     "metadata": {},
     "output_type": "execute_result"
    }
   ],
   "source": [
    "resp['data']['reportData']['report']['playerDetails']"
   ]
  }
 ],
 "metadata": {
  "kernelspec": {
   "display_name": "ds",
   "language": "python",
   "name": "python3"
  },
  "language_info": {
   "codemirror_mode": {
    "name": "ipython",
    "version": 3
   },
   "file_extension": ".py",
   "mimetype": "text/x-python",
   "name": "python",
   "nbconvert_exporter": "python",
   "pygments_lexer": "ipython3",
   "version": "3.10.13"
  }
 },
 "nbformat": 4,
 "nbformat_minor": 2
}
